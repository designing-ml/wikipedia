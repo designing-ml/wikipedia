{
  "nbformat": 4,
  "nbformat_minor": 0,
  "metadata": {
    "colab": {
      "name": "Wikipedia Abuse Filter.ipynb",
      "version": "0.3.2",
      "provenance": []
    },
    "kernelspec": {
      "name": "python3",
      "display_name": "Python 3"
    }
  },
  "cells": [
    {
      "metadata": {
        "id": "sKV7tDfIOx6u",
        "colab_type": "code",
        "colab": {}
      },
      "cell_type": "code",
      "source": [
        "import urllib\n",
        "\n",
        "testfile = urllib.URLopener()\n",
        "testfile.retrieve(\"http://randomsite.com/file.gz\", \"train.tsv\")"
      ],
      "execution_count": 0,
      "outputs": []
    },
    {
      "metadata": {
        "id": "r9n5GgNoT_nf",
        "colab_type": "code",
        "colab": {}
      },
      "cell_type": "code",
      "source": [
        "from sklearn.naive_bayes import MultinomialNB\n",
        "from sklearn.feature_extraction.text import CountVectorizer\n",
        "from sklearn.feature_extraction.text import TfidfTransformer\n",
        "import pandas as pd\n",
        "from sklearn.naive_bayes import MultinomialNB\n",
        "\n",
        "# read the data into pandas data frame\n",
        "df_train = pd.read_csv('../data/train.tsv', sep='\\t', header=0)\n",
        "\n",
        "# tokenizing\n",
        "# transform the comment column into feature vectors\n",
        "count_vec = CountVectorizer()\n",
        "x_train_counts = count_vec.fit_transform(df_train.comment)\n",
        "\n",
        "# from occurences to frequencies (tf idf)\n",
        "tfidf_transformer = TfidfTransformer()\n",
        "x_train_tfidf = tfidf_transformer.fit_transform(x_train_counts)\n",
        "\n",
        "# training a classifier\n",
        "clf = MultinomialNB().fit(x_train_tfidf, df_train.label)"
      ],
      "execution_count": 0,
      "outputs": []
    }
  ]
}