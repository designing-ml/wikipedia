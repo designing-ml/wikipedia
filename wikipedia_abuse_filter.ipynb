{
  "nbformat": 4,
  "nbformat_minor": 0,
  "metadata": {
    "colab": {
      "name": "Wikipedia Abuse Filter.ipynb",
      "version": "0.3.2",
      "provenance": []
    },
    "kernelspec": {
      "name": "python3",
      "display_name": "Python 3"
    }
  },
  "cells": [
    {
      "metadata": {
        "id": "Vajwxlzcc8II",
        "colab_type": "text"
      },
      "cell_type": "markdown",
      "source": [
        "# Wikipedia Abuse Filter\n",
        "### Created by: Abhay Agarwal [abhayka@stanford.edu](mailto:abhayka@stanford.edu) (10/16/18)\n",
        "This is an interactive notebook file that downloads a very large dataset of wikipedia abusive comments and edits (almost 30MB!) You can try it out yourself! To try it yourself, first run all the code once through (by going to the Runtime menu and selecting \"run all\").\n",
        "\n",
        "This code uses a [Naive Bayes](https://en.wikipedia.org/wiki/Naive_Bayes_classifier) classifier to classify the spam. Try to see where this classifier breaks down. Can you trick the system? How does it respond to adversarial techniques like misspelling, adding different spaces, etc.?"
      ]
    },
    {
      "metadata": {
        "id": "r9n5GgNoT_nf",
        "colab_type": "code",
        "colab": {}
      },
      "cell_type": "code",
      "source": [
        "# You don't have to understand this part. These are code functions that will be used later.\n",
        "\n",
        "from sklearn.naive_bayes import MultinomialNB\n",
        "from sklearn.feature_extraction.text import CountVectorizer\n",
        "from sklearn.feature_extraction.text import TfidfTransformer\n",
        "import pandas as pd\n",
        "pd.set_option('display.max_colwidth', -1)\n",
        "from sklearn.naive_bayes import MultinomialNB\n",
        "from urllib.request import urlopen"
      ],
      "execution_count": 0,
      "outputs": []
    },
    {
      "metadata": {
        "id": "BfQCGzRxYXKp",
        "colab_type": "code",
        "colab": {}
      },
      "cell_type": "code",
      "source": [
        "# read the data into a \"data frame\" (used to quickly process the data)\n",
        "df_train = pd.read_csv('https://raw.githubusercontent.com/designing-ml/wikipedia/master/wikipedia_dataset.tsv', sep='\\t', header=0)"
      ],
      "execution_count": 0,
      "outputs": []
    },
    {
      "metadata": {
        "id": "2dT0uAJkgXaZ",
        "colab_type": "text"
      },
      "cell_type": "markdown",
      "source": [
        "You should see two tables of data below. The first table shows the first ten data with a label of \"0\", which means the dataset regards these passages as \"not spam\" (in computing parlance this is called \"ham\"). The second table shows the first ten data with a label of \"1\", which means these are considered spam."
      ]
    },
    {
      "metadata": {
        "id": "YnpPKtqnYqBl",
        "colab_type": "code",
        "colab": {
          "base_uri": "https://localhost:8080/",
          "height": 532
        },
        "outputId": "d996a99e-6f0e-47c7-d5b3-c9553543d835"
      },
      "cell_type": "code",
      "source": [
        "# Edit the \"9\" to show more or fewer examples\n",
        "df_train.loc[lambda d: d.label == 0][0:9]"
      ],
      "execution_count": 103,
      "outputs": [
        {
          "output_type": "execute_result",
          "data": {
            "text/html": [
              "<div>\n",
              "<style scoped>\n",
              "    .dataframe tbody tr th:only-of-type {\n",
              "        vertical-align: middle;\n",
              "    }\n",
              "\n",
              "    .dataframe tbody tr th {\n",
              "        vertical-align: top;\n",
              "    }\n",
              "\n",
              "    .dataframe thead th {\n",
              "        text-align: right;\n",
              "    }\n",
              "</style>\n",
              "<table border=\"1\" class=\"dataframe\">\n",
              "  <thead>\n",
              "    <tr style=\"text-align: right;\">\n",
              "      <th></th>\n",
              "      <th>label</th>\n",
              "      <th>comment</th>\n",
              "    </tr>\n",
              "  </thead>\n",
              "  <tbody>\n",
              "    <tr>\n",
              "      <th>0</th>\n",
              "      <td>0</td>\n",
              "      <td>I want to lay out the major problemsin terms of structure and clarityafflicting the Native American controversy paragraph. As I show below, this inept writing serves to obscure the controversy surrounding her claim to Native American ancestry, which was the most-covered issue in her 2012 Senate Campaign.    Competently-written paragraphs have clear topic sentences that state the main point of the paragraph. The topic sentenceof the current, incompetently written paragraph on the Native American controversy is as follows: In April 2012, the Boston Herald sparked a campaign controversy when it reported that Association of American Law Schools (AALS) directories from 1986 to 1995 listed Warren as a minority professor.This topic sentence is unclear; a reader who reads it would not see what the controversy was about. Being listed as a minority is not controversial. The issue is that Warren 1) listed herself in a 2) minority-recruitment directory for law schools, on the basis of 3) undocumented claims to Native American ancestry. A competently written topic sentence would convey those three main points. Here is an example of such a topic sentence: In April 2012, the Boston Herald sparked a campaign controversy when it noted that Warren had listed herself in a directory of minority law professors, used by law schools for recruitment purposes, despite the fact that she lacked any documented minority ancestry.That competently-written topic sentence states the controversy in a nutshell.   I am willing to entertain any number of alternative topic sentences, including those that are unduly favorable to Warren. (I've given up on truly achieving NPOV for this article.) But I am not willing to abide unclear writing.     The current paragraph states that Warren's opponent Scott Brown speculated that she had fabricated a native ancestry to gain advantage in employment.At this point, the paragraph has not stated that she claimed to be Native American, so it is not clear what type of ancestry the term native ancestryrefers to. I have tried to replace native ancestrywith Native American ancestry,but have been repeatedly reverted.     The current paragraph states that Scott Brown issued attack ads that referred to Warren's ancestry.Whether made out of incompetence or malice, this statement constitutes a BLP violation. The statement indicates that Brown attacked Warren because of her ancestry or race. In reality, he attacked her for (allegedly) lying about her race to get ahead in the employment market.</td>\n",
              "    </tr>\n",
              "    <tr>\n",
              "      <th>1</th>\n",
              "      <td>0</td>\n",
              "      <td>He is deleting the NYTimes, Chosun Ilbo reference. You also deleted a chunk of info without explantion and could've rephrased it. Why does he/she do that? NYTimes and Chosun Ilbo(the largest newspaper company in South Korea) http://pr.chosun.com/chosun_english/</td>\n",
              "    </tr>\n",
              "    <tr>\n",
              "      <th>2</th>\n",
              "      <td>0</td>\n",
              "      <td>I please you Pleas, Cool Cat is an Turkish Nationalis is not got Administrator -</td>\n",
              "    </tr>\n",
              "    <tr>\n",
              "      <th>3</th>\n",
              "      <td>0</td>\n",
              "      <td>*Ok I see, you restored my faith in the Wikipedia process, sorry for the misunderstanding.</td>\n",
              "    </tr>\n",
              "    <tr>\n",
              "      <th>4</th>\n",
              "      <td>0</td>\n",
              "      <td>In reverting the talk page there you had reverted comments i had recently placed there. please reffrain from doing so in the future.  January 14th 2007</td>\n",
              "    </tr>\n",
              "    <tr>\n",
              "      <th>5</th>\n",
              "      <td>0</td>\n",
              "      <td>Well, at last I see a person being called a Palestinian. Didn't know Palestinia was a country. Or a religion. Or anything. But at last, overhere, the word seems to exists, albeit negative. White phosphor, anyone? -</td>\n",
              "    </tr>\n",
              "    <tr>\n",
              "      <th>6</th>\n",
              "      <td>0</td>\n",
              "      <td>:Sorry for the delay; I've restored the article.</td>\n",
              "    </tr>\n",
              "    <tr>\n",
              "      <th>7</th>\n",
              "      <td>0</td>\n",
              "      <td>:Well, that's very generous of you! But I'm not exactly into putting green circles. Although I'd use my credit when I'd really need it, if you know what I mean. ''''</td>\n",
              "    </tr>\n",
              "    <tr>\n",
              "      <th>9</th>\n",
              "      <td>0</td>\n",
              "      <td>Time for a WIKI investigation here. It is no secret Admins work for pay and this is as bad as it gets. I believe I could find at very least a dozen references for the main criminal, Mr. Bermender. Purely laughable in that Mr. Bermender's ad for affilates isn't good enough for this admin.</td>\n",
              "    </tr>\n",
              "  </tbody>\n",
              "</table>\n",
              "</div>"
            ],
            "text/plain": [
              "   label  \\\n",
              "0  0       \n",
              "1  0       \n",
              "2  0       \n",
              "3  0       \n",
              "4  0       \n",
              "5  0       \n",
              "6  0       \n",
              "7  0       \n",
              "9  0       \n",
              "\n",
              "                                                                                                                                                                                                                                                                                                                                                                                                                                                                                                                                                                                                                                                                                                                                                                                                                                                                                                                                                                                                                                                                                                                                                                                                                                                                                                                                                                                                                                                                                                                                                                                                                                                                                                                                                                                                                                                                                                                                                                                                                                                                                                                                                                                                                                                                                                                                                                                                                                                                                                                                                                                                                             comment  \n",
              "0  I want to lay out the major problemsin terms of structure and clarityafflicting the Native American controversy paragraph. As I show below, this inept writing serves to obscure the controversy surrounding her claim to Native American ancestry, which was the most-covered issue in her 2012 Senate Campaign.    Competently-written paragraphs have clear topic sentences that state the main point of the paragraph. The topic sentenceof the current, incompetently written paragraph on the Native American controversy is as follows: In April 2012, the Boston Herald sparked a campaign controversy when it reported that Association of American Law Schools (AALS) directories from 1986 to 1995 listed Warren as a minority professor.This topic sentence is unclear; a reader who reads it would not see what the controversy was about. Being listed as a minority is not controversial. The issue is that Warren 1) listed herself in a 2) minority-recruitment directory for law schools, on the basis of 3) undocumented claims to Native American ancestry. A competently written topic sentence would convey those three main points. Here is an example of such a topic sentence: In April 2012, the Boston Herald sparked a campaign controversy when it noted that Warren had listed herself in a directory of minority law professors, used by law schools for recruitment purposes, despite the fact that she lacked any documented minority ancestry.That competently-written topic sentence states the controversy in a nutshell.   I am willing to entertain any number of alternative topic sentences, including those that are unduly favorable to Warren. (I've given up on truly achieving NPOV for this article.) But I am not willing to abide unclear writing.     The current paragraph states that Warren's opponent Scott Brown speculated that she had fabricated a native ancestry to gain advantage in employment.At this point, the paragraph has not stated that she claimed to be Native American, so it is not clear what type of ancestry the term native ancestryrefers to. I have tried to replace native ancestrywith Native American ancestry,but have been repeatedly reverted.     The current paragraph states that Scott Brown issued attack ads that referred to Warren's ancestry.Whether made out of incompetence or malice, this statement constitutes a BLP violation. The statement indicates that Brown attacked Warren because of her ancestry or race. In reality, he attacked her for (allegedly) lying about her race to get ahead in the employment market.     \n",
              "1  He is deleting the NYTimes, Chosun Ilbo reference. You also deleted a chunk of info without explantion and could've rephrased it. Why does he/she do that? NYTimes and Chosun Ilbo(the largest newspaper company in South Korea) http://pr.chosun.com/chosun_english/                                                                                                                                                                                                                                                                                                                                                                                                                                                                                                                                                                                                                                                                                                                                                                                                                                                                                                                                                                                                                                                                                                                                                                                                                                                                                                                                                                                                                                                                                                                                                                                                                                                                                                                                                                                                                                                                                                                                                                                                                                                                                                                                                                                                                                                                                                                                                              \n",
              "2  I please you Pleas, Cool Cat is an Turkish Nationalis is not got Administrator -                                                                                                                                                                                                                                                                                                                                                                                                                                                                                                                                                                                                                                                                                                                                                                                                                                                                                                                                                                                                                                                                                                                                                                                                                                                                                                                                                                                                                                                                                                                                                                                                                                                                                                                                                                                                                                                                                                                                                                                                                                                                                                                                                                                                                                                                                                                                                                                                                                                                                                                                                   \n",
              "3  *Ok I see, you restored my faith in the Wikipedia process, sorry for the misunderstanding.                                                                                                                                                                                                                                                                                                                                                                                                                                                                                                                                                                                                                                                                                                                                                                                                                                                                                                                                                                                                                                                                                                                                                                                                                                                                                                                                                                                                                                                                                                                                                                                                                                                                                                                                                                                                                                                                                                                                                                                                                                                                                                                                                                                                                                                                                                                                                                                                                                                                                                                                         \n",
              "4  In reverting the talk page there you had reverted comments i had recently placed there. please reffrain from doing so in the future.  January 14th 2007                                                                                                                                                                                                                                                                                                                                                                                                                                                                                                                                                                                                                                                                                                                                                                                                                                                                                                                                                                                                                                                                                                                                                                                                                                                                                                                                                                                                                                                                                                                                                                                                                                                                                                                                                                                                                                                                                                                                                                                                                                                                                                                                                                                                                                                                                                                                                                                                                                                                            \n",
              "5  Well, at last I see a person being called a Palestinian. Didn't know Palestinia was a country. Or a religion. Or anything. But at last, overhere, the word seems to exists, albeit negative. White phosphor, anyone? -                                                                                                                                                                                                                                                                                                                                                                                                                                                                                                                                                                                                                                                                                                                                                                                                                                                                                                                                                                                                                                                                                                                                                                                                                                                                                                                                                                                                                                                                                                                                                                                                                                                                                                                                                                                                                                                                                                                                                                                                                                                                                                                                                                                                                                                                                                                                                                                                             \n",
              "6  :Sorry for the delay; I've restored the article.                                                                                                                                                                                                                                                                                                                                                                                                                                                                                                                                                                                                                                                                                                                                                                                                                                                                                                                                                                                                                                                                                                                                                                                                                                                                                                                                                                                                                                                                                                                                                                                                                                                                                                                                                                                                                                                                                                                                                                                                                                                                                                                                                                                                                                                                                                                                                                                                                                                                                                                                                                                   \n",
              "7  :Well, that's very generous of you! But I'm not exactly into putting green circles. Although I'd use my credit when I'd really need it, if you know what I mean. ''''                                                                                                                                                                                                                                                                                                                                                                                                                                                                                                                                                                                                                                                                                                                                                                                                                                                                                                                                                                                                                                                                                                                                                                                                                                                                                                                                                                                                                                                                                                                                                                                                                                                                                                                                                                                                                                                                                                                                                                                                                                                                                                                                                                                                                                                                                                                                                                                                                                                              \n",
              "9  Time for a WIKI investigation here. It is no secret Admins work for pay and this is as bad as it gets. I believe I could find at very least a dozen references for the main criminal, Mr. Bermender. Purely laughable in that Mr. Bermender's ad for affilates isn't good enough for this admin.                                                                                                                                                                                                                                                                                                                                                                                                                                                                                                                                                                                                                                                                                                                                                                                                                                                                                                                                                                                                                                                                                                                                                                                                                                                                                                                                                                                                                                                                                                                                                                                                                                                                                                                                                                                                                                                                                                                                                                                                                                                                                                                                                                                                                                                                                                                                   "
            ]
          },
          "metadata": {
            "tags": []
          },
          "execution_count": 103
        }
      ]
    },
    {
      "metadata": {
        "id": "oyjLnOmJj22v",
        "colab_type": "code",
        "colab": {
          "base_uri": "https://localhost:8080/",
          "height": 362
        },
        "outputId": "21ae01fb-a5de-4502-bb2a-5760c9051e03"
      },
      "cell_type": "code",
      "source": [
        "# Edit the \"9\" to show more or fewer examples\n",
        "df_train.loc[lambda d: d.label == 1][0:9]"
      ],
      "execution_count": 104,
      "outputs": [
        {
          "output_type": "execute_result",
          "data": {
            "text/html": [
              "<div>\n",
              "<style scoped>\n",
              "    .dataframe tbody tr th:only-of-type {\n",
              "        vertical-align: middle;\n",
              "    }\n",
              "\n",
              "    .dataframe tbody tr th {\n",
              "        vertical-align: top;\n",
              "    }\n",
              "\n",
              "    .dataframe thead th {\n",
              "        text-align: right;\n",
              "    }\n",
              "</style>\n",
              "<table border=\"1\" class=\"dataframe\">\n",
              "  <thead>\n",
              "    <tr style=\"text-align: right;\">\n",
              "      <th></th>\n",
              "      <th>label</th>\n",
              "      <th>comment</th>\n",
              "    </tr>\n",
              "  </thead>\n",
              "  <tbody>\n",
              "    <tr>\n",
              "      <th>8</th>\n",
              "      <td>1</td>\n",
              "      <td>You, sir, are a capital douche bag. Please listen to some Dragonforce and stop making wiki lame. thank you</td>\n",
              "    </tr>\n",
              "    <tr>\n",
              "      <th>10</th>\n",
              "      <td>1</td>\n",
              "      <td>FUCK THE WIKI PUNKS who will fuck wikpeida over.... NOW I go to IRS and file HAVE FUN ASSWIPES... YOU JUST COST WIKI BIG TIME...</td>\n",
              "    </tr>\n",
              "    <tr>\n",
              "      <th>15</th>\n",
              "      <td>1</td>\n",
              "      <td>Ya so the us sucs cuz bugh is dumb and they have to much army and people are to mean in new york and jesusland is to big and ya. So anyway, this was severs opinion</td>\n",
              "    </tr>\n",
              "    <tr>\n",
              "      <th>18</th>\n",
              "      <td>1</td>\n",
              "      <td>Oh go fuck yourself and stop stalking my page, you twisted bag of wank.</td>\n",
              "    </tr>\n",
              "    <tr>\n",
              "      <th>46</th>\n",
              "      <td>1</td>\n",
              "      <td>PLEASE OTHER THAN HIDE BEHIND WK RULES  acutally IDENTITY THE OFFESNES COMMIMITED!  YOU JUST SAID you dont care about my OPINIONS!..yet the opinions that where QUOTED WHERE FROM THE REFERENCES YOU HAD ACCEPTED!!  LOL...  SO in which case i am formally complaining about YOU AND YOUR BIASED STANCE!  ALL MY REFERNCES HAVE ISBN NUMBERS, YEAR AND PUBLISHERS!  YOU ARE PROTECTING YOUR BIASED VIEW!</td>\n",
              "    </tr>\n",
              "    <tr>\n",
              "      <th>47</th>\n",
              "      <td>1</td>\n",
              "      <td>Why you being such as hater all of the time man? Get off my dick. - A Different World - 4:59 PM - Friday, August 25, 2006.</td>\n",
              "    </tr>\n",
              "    <tr>\n",
              "      <th>48</th>\n",
              "      <td>1</td>\n",
              "      <td>I don't know who died and made you king of situations in which you have no first-hand knowledge. Keep doing what you're doing and I'll keep correcting it and other people who also are familiar with these matters will step in and continue to correct it. ()</td>\n",
              "    </tr>\n",
              "    <tr>\n",
              "      <th>50</th>\n",
              "      <td>1</td>\n",
              "      <td>This wikipedia stuff is good shit, next rounds on me aye.</td>\n",
              "    </tr>\n",
              "    <tr>\n",
              "      <th>59</th>\n",
              "      <td>1</td>\n",
              "      <td>keep your sorry ass shit post off my page</td>\n",
              "    </tr>\n",
              "  </tbody>\n",
              "</table>\n",
              "</div>"
            ],
            "text/plain": [
              "    label  \\\n",
              "8   1       \n",
              "10  1       \n",
              "15  1       \n",
              "18  1       \n",
              "46  1       \n",
              "47  1       \n",
              "48  1       \n",
              "50  1       \n",
              "59  1       \n",
              "\n",
              "                                                                                                                                                                                                                                                                                                                                                                                                      comment  \n",
              "8   You, sir, are a capital douche bag. Please listen to some Dragonforce and stop making wiki lame. thank you                                                                                                                                                                                                                                                                                                 \n",
              "10  FUCK THE WIKI PUNKS who will fuck wikpeida over.... NOW I go to IRS and file HAVE FUN ASSWIPES... YOU JUST COST WIKI BIG TIME...                                                                                                                                                                                                                                                                           \n",
              "15  Ya so the us sucs cuz bugh is dumb and they have to much army and people are to mean in new york and jesusland is to big and ya. So anyway, this was severs opinion                                                                                                                                                                                                                                        \n",
              "18  Oh go fuck yourself and stop stalking my page, you twisted bag of wank.                                                                                                                                                                                                                                                                                                                                    \n",
              "46  PLEASE OTHER THAN HIDE BEHIND WK RULES  acutally IDENTITY THE OFFESNES COMMIMITED!  YOU JUST SAID you dont care about my OPINIONS!..yet the opinions that where QUOTED WHERE FROM THE REFERENCES YOU HAD ACCEPTED!!  LOL...  SO in which case i am formally complaining about YOU AND YOUR BIASED STANCE!  ALL MY REFERNCES HAVE ISBN NUMBERS, YEAR AND PUBLISHERS!  YOU ARE PROTECTING YOUR BIASED VIEW!  \n",
              "47  Why you being such as hater all of the time man? Get off my dick. - A Different World - 4:59 PM - Friday, August 25, 2006.                                                                                                                                                                                                                                                                                 \n",
              "48  I don't know who died and made you king of situations in which you have no first-hand knowledge. Keep doing what you're doing and I'll keep correcting it and other people who also are familiar with these matters will step in and continue to correct it. ()                                                                                                                                            \n",
              "50  This wikipedia stuff is good shit, next rounds on me aye.                                                                                                                                                                                                                                                                                                                                                  \n",
              "59  keep your sorry ass shit post off my page                                                                                                                                                                                                                                                                                                                                                                  "
            ]
          },
          "metadata": {
            "tags": []
          },
          "execution_count": 104
        }
      ]
    },
    {
      "metadata": {
        "id": "T4U5hkPMYQf1",
        "colab_type": "code",
        "colab": {}
      },
      "cell_type": "code",
      "source": [
        "# This code takes all the training data and adds it to a Naive Bayes classifier.\n",
        "\n",
        "# transform the comment column into feature vectors\n",
        "count_vec = CountVectorizer()\n",
        "x_train_counts = count_vec.fit_transform(df_train.comment)\n",
        "\n",
        "# from occurences to frequencies (tf idf)\n",
        "tfidf_transformer = TfidfTransformer()\n",
        "x_train_tfidf = tfidf_transformer.fit_transform(x_train_counts)\n",
        "\n",
        "# training a classifier\n",
        "clf = MultinomialNB().fit(x_train_tfidf, df_train.label)"
      ],
      "execution_count": 0,
      "outputs": []
    },
    {
      "metadata": {
        "id": "HoNWB6gsbG7s",
        "colab_type": "code",
        "colab": {
          "base_uri": "https://localhost:8080/",
          "height": 34
        },
        "outputId": "b84bffda-4437-4dd0-d561-f86955fcf068"
      },
      "cell_type": "code",
      "source": [
        "#@title Enter a phrase to test! { run: \"auto\", vertical-output: true, display-mode: \"both\" }\n",
        "test_phrase = \"This is a test phrase (edit to add your own) \" #@param {type:\"string\"}\n",
        "\n",
        "df_test = pd.DataFrame(data={'comment':[test_phrase]})\n",
        "\n",
        "# transform test data into feature vectors\n",
        "x_new_counts = count_vec.transform(df_test.comment)\n",
        "x_new_tfidf = tfidf_transformer.transform(x_new_counts)\n",
        "\n",
        "predicted = clf.predict(x_new_tfidf)\n",
        "\n",
        "print(\"Phrase is Spam? : \" + (\"True\" if predicted[0] == 1 else \"False\"))"
      ],
      "execution_count": 106,
      "outputs": [
        {
          "output_type": "stream",
          "text": [
            "Phrase is Spam? : False\n"
          ],
          "name": "stdout"
        }
      ]
    }
  ]
}